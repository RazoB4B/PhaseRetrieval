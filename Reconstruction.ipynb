{
 "cells": [
  {
   "cell_type": "code",
   "execution_count": 1,
   "id": "21a5630f-fa48-406a-a071-3f9e194b2ab5",
   "metadata": {},
   "outputs": [
    {
     "name": "stdout",
     "output_type": "stream",
     "text": [
      "cpu\n"
     ]
    }
   ],
   "source": [
    "import os\n",
    "import torch\n",
    "import numpy as np\n",
    "import Definitions as Def\n",
    "from tqdm import tqdm\n",
    "\n",
    "device = torch.device(\"cuda\" if torch.cuda.is_available() else \"cpu\")\n",
    "print(device)"
   ]
  },
  {
   "cell_type": "markdown",
   "id": "138fbf94-3887-406f-a8ae-adf679af7028",
   "metadata": {},
   "source": [
    "### Parameters"
   ]
  },
  {
   "cell_type": "code",
   "execution_count": 2,
   "id": "b93296ff-ff82-452d-b4dc-033993be98f6",
   "metadata": {},
   "outputs": [],
   "source": [
    "N = 240                         # Total number of pixels in the diffuser\n",
    "ps = 8                          # Minimum pixel variation of the original diffuser N/ps\n",
    "psr = 4                         # Minimum pixel variation of the predicted diffuser N/ps\n",
    "WinSize = 1                     # Padding number (Size of the speckle figure N*WinSize)\n",
    "NPad = 10*WinSize\n",
    "\n",
    "theta = 180                     # Angle of the aperture\n",
    "r_max = 0.9                     # Radius of the aperture\n",
    "r_min = 0\n",
    "\n",
    "NHarms = 1                      # Number of Harmonics to find (Look function Harmonics, if Sym=True -> pos and neg harmonics)\n",
    "\n",
    "LR_init = 5e0                   # Initial learning rate\n",
    "Steps = 50000                   # Total number of optimization steps\n",
    "\n",
    "Seed = 0\n",
    "\n",
    "# Coefficients of the Fourier serie\n",
    "alpha = theta*2*np.pi/360\n",
    "Nangle = (2*np.pi)/(alpha)\n",
    "c1 = -np.abs(np.sinc(1/Nangle))/(Nangle-1)\n",
    "\n",
    "_filename = f'Reconstruction_OPixel={ps:02d}_PPixel={psr:02d}_theta={theta:03d}_N={N*WinSize}_LearningRate={LR_init:01.0e}_Steps={Steps:01.0e}_Seed={Seed:02d}.npy'"
   ]
  },
  {
   "cell_type": "markdown",
   "id": "a1f05899-ab6e-492b-bd64-5e4b333cf632",
   "metadata": {},
   "source": [
    "### Origial signals $(|a_0|^2, S_0, S_1)$"
   ]
  },
  {
   "cell_type": "code",
   "execution_count": 3,
   "id": "da7ef2eb-56b4-4e7a-9788-e8eec252a477",
   "metadata": {},
   "outputs": [
    {
     "name": "stderr",
     "output_type": "stream",
     "text": [
      "100%|█████████████████████████████████████████| 101/101 [01:04<00:00,  1.57it/s]\n"
     ]
    }
   ],
   "source": [
    "Diffuser = np.exp(1j*Def.PhaseDiffuser(N, ps, Seed))             # Original phase diffuser\n",
    "\n",
    "# Origial harmonic preparation\n",
    "_Masks = Def.SectionMask(N, 101, theta, r_max, r_min, 0, True)   # Sectioning masks\n",
    "_speckles = []\n",
    "for _mask in tqdm(_Masks):                                       # Far field answer for sectioning mask\n",
    "    _out = Def.GetFarField(_mask*Diffuser, NPad, WinSize)\n",
    "    _speckles.append(_out.astype(complex))\n",
    "\n",
    "S, _, _ = Def.Harmonics(np.abs(_speckles)**2, NHarms, 10, False) # Harmonic computation\n",
    "\n",
    "VMasks = Def.VortexMask(N, r_max, r_min, NHarms, True)           # Full pupil masks (SP-1, Flat phase, SP+1)\n",
    "A0 = Def.GetFarField(VMasks[1]*Diffuser, NPad, WinSize)          # Full pupil field\n",
    "A02 = np.abs(A0)**2                                              # Full pupil intensity"
   ]
  },
  {
   "cell_type": "markdown",
   "id": "b9c6d6da-2fb4-4d81-ac95-330da8d97d29",
   "metadata": {},
   "source": [
    "### Original arrays to Torch"
   ]
  },
  {
   "cell_type": "code",
   "execution_count": 4,
   "id": "eb6d08bf-2792-4f6c-8c42-7f2e435c0cd5",
   "metadata": {},
   "outputs": [],
   "source": [
    "A0_target = torch.from_numpy(A0).to(torch.complex64).to(device)\n",
    "A02_target = torch.from_numpy(A02).to(torch.complex64).to(device)\n",
    "S0_target = torch.from_numpy(S[0]).to(torch.complex64).to(device)\n",
    "S1_target = torch.from_numpy(S[1]).to(torch.complex64).to(device)\n",
    "\n",
    "# Array normalization\n",
    "A0_target = A0_target/torch.mean(torch.abs(A0_target))\n",
    "A02_target = A02_target/torch.mean(torch.abs(A02_target))\n",
    "S0_target = S0_target/torch.mean(torch.abs(S0_target))\n",
    "S1_target = S1_target/torch.mean(torch.abs(S1_target))\n",
    "\n",
    "# Full pupil masks (SP-1, Flat phase, SP+1)\n",
    "V0 = torch.from_numpy(VMasks[1]).to(torch.complex64).to(device)\n",
    "Vp1 = torch.from_numpy(VMasks[2]).to(torch.complex64).to(device)\n",
    "Vm1 = torch.from_numpy(VMasks[0]).to(torch.complex64).to(device)\n",
    "\n",
    "# Diffuser\n",
    "DiffTarg = torch.from_numpy(Diffuser).to(torch.complex64).to(device)\n",
    "DiffTarg = DiffTarg/torch.mean(torch.abs(DiffTarg))\n",
    "\n",
    "# Optimization parameter\n",
    "param_real = torch.ones(N//psr, N//psr, requires_grad=True)\n",
    "param_imag = torch.ones(N//psr, N//psr, requires_grad=True)\n",
    "optimizer = torch.optim.Adam([param_real, param_imag], lr=LR_init)           "
   ]
  },
  {
   "cell_type": "markdown",
   "id": "7f798c3f-ad3a-415a-b7ba-ed98d327bae1",
   "metadata": {},
   "source": [
    "### Optimization"
   ]
  },
  {
   "cell_type": "code",
   "execution_count": 5,
   "id": "8e571e28-5ff6-4a4a-8fd9-f4c1c8ffc398",
   "metadata": {},
   "outputs": [
    {
     "name": "stderr",
     "output_type": "stream",
     "text": [
      "  0%|                                      | 8/50000 [00:08<15:05:13,  1.09s/it]\n"
     ]
    },
    {
     "ename": "KeyboardInterrupt",
     "evalue": "",
     "output_type": "error",
     "traceback": [
      "\u001b[0;31m---------------------------------------------------------------------------\u001b[0m",
      "\u001b[0;31mKeyboardInterrupt\u001b[0m                         Traceback (most recent call last)",
      "Cell \u001b[0;32mIn[5], line 14\u001b[0m\n\u001b[1;32m     11\u001b[0m diff \u001b[38;5;241m=\u001b[39m diff\u001b[38;5;241m.\u001b[39mrepeat_interleave(psr, dim\u001b[38;5;241m=\u001b[39m\u001b[38;5;241m0\u001b[39m)\n\u001b[1;32m     13\u001b[0m \u001b[38;5;66;03m# Compute the far field (SP-1, Flat phase, SP+1)\u001b[39;00m\n\u001b[0;32m---> 14\u001b[0m pred_a0 \u001b[38;5;241m=\u001b[39m Def\u001b[38;5;241m.\u001b[39mGetFarField_torch(diff\u001b[38;5;241m*\u001b[39mV0, NPad, WinSize)\n\u001b[1;32m     15\u001b[0m pred_ap1 \u001b[38;5;241m=\u001b[39m Def\u001b[38;5;241m.\u001b[39mGetFarField_torch(diff\u001b[38;5;241m*\u001b[39mVp1, NPad, WinSize)\n\u001b[1;32m     16\u001b[0m pred_am1 \u001b[38;5;241m=\u001b[39m Def\u001b[38;5;241m.\u001b[39mGetFarField_torch(diff\u001b[38;5;241m*\u001b[39mVm1, NPad, WinSize)\n",
      "File \u001b[0;32m~/Documentos/Popoff/HarmonicsSpeckle/Definitions.py:325\u001b[0m, in \u001b[0;36mGetFarField_torch\u001b[0;34m(array, Npad, WinSize)\u001b[0m\n\u001b[1;32m    323\u001b[0m array_padded \u001b[38;5;241m=\u001b[39m F\u001b[38;5;241m.\u001b[39mpad(array, (pad, pad, pad, pad), mode\u001b[38;5;241m=\u001b[39m\u001b[38;5;124m'\u001b[39m\u001b[38;5;124mconstant\u001b[39m\u001b[38;5;124m'\u001b[39m, value\u001b[38;5;241m=\u001b[39m\u001b[38;5;241m0\u001b[39m)\n\u001b[1;32m    324\u001b[0m \u001b[38;5;66;03m# Apply fftshift, fft2, then fftshift again\u001b[39;00m\n\u001b[0;32m--> 325\u001b[0m shifted_input \u001b[38;5;241m=\u001b[39m torch\u001b[38;5;241m.\u001b[39mfft\u001b[38;5;241m.\u001b[39mfftshift(array_padded, dim\u001b[38;5;241m=\u001b[39m(\u001b[38;5;241m-\u001b[39m\u001b[38;5;241m2\u001b[39m, \u001b[38;5;241m-\u001b[39m\u001b[38;5;241m1\u001b[39m))\n\u001b[1;32m    326\u001b[0m fft_output \u001b[38;5;241m=\u001b[39m torch\u001b[38;5;241m.\u001b[39mfft\u001b[38;5;241m.\u001b[39mfft2(shifted_input)\n\u001b[1;32m    327\u001b[0m shifted_fft \u001b[38;5;241m=\u001b[39m torch\u001b[38;5;241m.\u001b[39mfft\u001b[38;5;241m.\u001b[39mfftshift(fft_output, dim\u001b[38;5;241m=\u001b[39m(\u001b[38;5;241m-\u001b[39m\u001b[38;5;241m2\u001b[39m, \u001b[38;5;241m-\u001b[39m\u001b[38;5;241m1\u001b[39m))\n",
      "\u001b[0;31mKeyboardInterrupt\u001b[0m: "
     ]
    }
   ],
   "source": [
    "TotLoss = np.zeros([Steps])                                # Total lost\n",
    "Losta0 = np.zeros([Steps])                                 # Difference between a_0 and a_0_p\n",
    "DiffDiff = np.zeros([Steps])                               # Diffuser difference\n",
    "\n",
    "for _step in tqdm(range(Steps)):\n",
    "    optimizer.zero_grad()\n",
    "\n",
    "    # Combine real and imaginary parts and apply mask\n",
    "    diff = torch.complex(param_real, param_imag)\n",
    "    diff = diff.repeat_interleave(psr, dim=1)\n",
    "    diff = diff.repeat_interleave(psr, dim=0)\n",
    "\n",
    "    # Compute the far field (SP-1, Flat phase, SP+1)\n",
    "    pred_a0 = Def.GetFarField_torch(diff*V0, NPad, WinSize)\n",
    "    pred_ap1 = Def.GetFarField_torch(diff*Vp1, NPad, WinSize)\n",
    "    pred_am1 = Def.GetFarField_torch(diff*Vm1, NPad, WinSize)\n",
    "\n",
    "    # Normalizing fields (SP-1, Flat phase, SP+1)\n",
    "    pred_a0 = pred_a0/torch.mean(torch.abs(pred_a0))\n",
    "    pred_ap1 = pred_ap1/torch.mean(torch.abs(pred_ap1))\n",
    "    pred_am1 = pred_am1/torch.mean(torch.abs(pred_am1))\n",
    "\n",
    "    # Computing predicted harmonics (S_0 and S_1)\n",
    "    S0_pred = torch.abs(pred_a0)**2 + torch.abs(c1*pred_am1)**2 + torch.abs(c1*pred_ap1)**2\n",
    "    S1_pred = pred_a0*pred_am1.conj() + pred_ap1*pred_a0.conj()\n",
    "\n",
    "    # Normalizing predicted arrays (|a_0|^2, S_0, S_1)\n",
    "    A02_pred = torch.abs(pred_a0)**2/torch.mean(torch.abs(pred_a0)**2)\n",
    "    S0_pred = S0_pred/torch.mean(torch.abs(S0_pred))\n",
    "    S1_pred = S1_pred/torch.mean(torch.abs(S1_pred))\n",
    "\n",
    "    # Computing Loss\n",
    "    loss_a0 = Def.L2_norm(A02_pred, A02_target)\n",
    "    loss_S0 = Def.L2_norm(S0_pred, S0_target)\n",
    "    loss_S1 = Def.L2_norm(S1_pred, S1_target)\n",
    "\n",
    "    loss_total = loss_a0 + loss_S0 + loss_S1\n",
    "\n",
    "    # Optimizing\n",
    "    loss_total.backward()\n",
    "    optimizer.step()\n",
    "\n",
    "    # Normalizing diffuser\n",
    "    _DiffPred = diff/torch.mean(torch.abs(diff))\n",
    "\n",
    "    # Computing and getting different quantities\n",
    "    TotLoss[_step] = loss_total.item()                                       # Total lost\n",
    "    DiffDiff[_step] = torch.mean(torch.abs(_DiffPred - DiffTarg)).item()     # Diffuser difference\n",
    "    Losta0[_step] = torch.mean(torch.abs(A0_target - pred_a0)).item()        # Difference between a_0 and a_0_p"
   ]
  },
  {
   "cell_type": "markdown",
   "id": "8d8055e5-a7cc-43a2-9cba-7e4553f5423e",
   "metadata": {},
   "source": [
    "### Saving data"
   ]
  },
  {
   "cell_type": "code",
   "execution_count": null,
   "id": "cffc7492-b914-4979-b32a-d78f21b2525b",
   "metadata": {},
   "outputs": [],
   "source": [
    "theDict = {}\n",
    "theDict['Losses'] = TotLoss\n",
    "theDict['Lossa0'] = Losta0\n",
    "theDict['EnergyDiff'] = EnergyDiff\n",
    "theDict['DiffuserDiff'] = DiffDiff\n",
    "theDict['DiffPhase'] = Diff\n",
    "theDict['SumPhase'] = Sum\n",
    "theDict['Diffuser'] = diff.detach().numpy()\n",
    "\n",
    "np.save(_filename, theDict)"
   ]
  }
 ],
 "metadata": {
  "kernelspec": {
   "display_name": "Python 3 (ipykernel)",
   "language": "python",
   "name": "python3"
  },
  "language_info": {
   "codemirror_mode": {
    "name": "ipython",
    "version": 3
   },
   "file_extension": ".py",
   "mimetype": "text/x-python",
   "name": "python",
   "nbconvert_exporter": "python",
   "pygments_lexer": "ipython3",
   "version": "3.12.2"
  }
 },
 "nbformat": 4,
 "nbformat_minor": 5
}
